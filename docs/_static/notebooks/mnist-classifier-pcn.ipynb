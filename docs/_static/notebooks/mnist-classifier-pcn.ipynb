{
 "cells": [
  {
   "cell_type": "markdown",
   "id": "ad7dc174",
   "metadata": {},
   "source": [
    "# Classifying MNIST with a Hierarchical PCN"
   ]
  },
  {
   "cell_type": "markdown",
   "id": "715277b8",
   "metadata": {},
   "source": [
    "## Set Up the Notebook"
   ]
  },
  {
   "cell_type": "code",
   "execution_count": null,
   "id": "ee7305f7",
   "metadata": {},
   "outputs": [],
   "source": [
    "import torch\n",
    "import torch.nn as nn\n",
    "import torch.nn.functional as F\n",
    "import torch.optim as optim\n",
    "from torch.utils.data import DataLoader, RandomSampler\n",
    "from torchvision import datasets\n",
    "from torchvision.transforms import v2\n",
    "from tqdm.notebook import tqdm\n",
    "\n",
    "import pyromancy as pyro\n",
    "from pyromancy.nodes import StandardGaussianNode"
   ]
  },
  {
   "cell_type": "markdown",
   "id": "05316b70",
   "metadata": {},
   "source": [
    "### Set the Compute Device and Datatype"
   ]
  },
  {
   "cell_type": "code",
   "execution_count": null,
   "id": "db6b0d8c",
   "metadata": {},
   "outputs": [],
   "source": [
    "device: str = \"auto\"\n",
    "dtype: torch.dtype = torch.float32\n",
    "\n",
    "if device == \"auto\":\n",
    "    if torch.cuda.is_available():\n",
    "        device = \"cuda\"\n",
    "    elif torch.backends.mps.is_available():\n",
    "        device = \"mps\"\n",
    "    else:\n",
    "        device = \"cpu\"\n",
    "\n",
    "assert torch.empty([], device=device, dtype=dtype).is_floating_point()\n",
    "\n",
    "iscpu = device.partition(\":\")[0].lower() == \"cpu\"\n",
    "iscuda = device.partition(\":\")[0].lower() == \"cuda\"\n",
    "ismps = device.partition(\":\")[0].lower() == \"mps\"\n",
    "\n",
    "print(f\"using {device} with {dtype} tensors\")"
   ]
  },
  {
   "cell_type": "markdown",
   "id": "c46c18ef",
   "metadata": {},
   "source": [
    "### Load the MNIST Dataset with TorchVision"
   ]
  },
  {
   "cell_type": "code",
   "execution_count": null,
   "id": "5ae85741",
   "metadata": {},
   "outputs": [],
   "source": [
    "train_set = datasets.MNIST(\n",
    "    root=\"data\",\n",
    "    train=True,\n",
    "    download=True,\n",
    "    transform=v2.Compose([v2.ToImage(), v2.ToDtype(dtype, scale=True)]),\n",
    ")\n",
    "\n",
    "test_set = datasets.MNIST(\n",
    "    root=\"data\",\n",
    "    train=False,\n",
    "    download=True,\n",
    "    transform=v2.Compose([v2.ToImage(), v2.ToDtype(dtype, scale=True)]),\n",
    ")"
   ]
  },
  {
   "cell_type": "markdown",
   "id": "1255354f",
   "metadata": {},
   "source": [
    "## Define the Model"
   ]
  },
  {
   "cell_type": "code",
   "execution_count": null,
   "id": "5c034cdd",
   "metadata": {},
   "outputs": [],
   "source": [
    "class PCN(nn.Module):\n",
    "\n",
    "    def __init__(self) -> None:\n",
    "        nn.Module.__init__(self)\n",
    "        self.nodes = nn.ModuleList(StandardGaussianNode(n) for n in (784, 256, 256, 10))\n",
    "        self.edges = nn.ModuleList(\n",
    "            nn.Sequential(\n",
    "                nn.ReLU(), nn.Linear(self.nodes[ell].size, self.nodes[ell + 1].size)\n",
    "            )\n",
    "            for ell in range(len(self.nodes) - 1)\n",
    "        )\n",
    "\n",
    "    def reset(self) -> None:\n",
    "        self.zero_grad()\n",
    "        for node in self.nodes:\n",
    "            node.reset()\n",
    "\n",
    "    @torch.no_grad()\n",
    "    def init_x(self, x: torch.Tensor) -> None:\n",
    "        self.reset()\n",
    "        z = self.nodes[0].init(x)\n",
    "        for node, edge in zip(self.nodes[1:], self.edges):\n",
    "            z = node.init(edge(z))\n",
    "\n",
    "    @torch.no_grad()\n",
    "    def init_xy(self, x: torch.Tensor, y: torch.Tensor) -> None:\n",
    "        self.reset()\n",
    "        z = self.nodes[0].init(x)\n",
    "        for node, edge in zip(self.nodes[1:-1], self.edges[:-1]):\n",
    "            z = node.init(edge(z))\n",
    "        _ = self.nodes[-1].init(y)\n",
    "\n",
    "    def forward(self, x: torch.Tensor) -> torch.Tensor:\n",
    "        mu = x\n",
    "        for edge in self.edges:\n",
    "            mu = edge(mu)\n",
    "        return mu\n",
    "\n",
    "    def energy(self) -> torch.Tensor:\n",
    "        vfe = self.nodes[0].value.new_zeros(self.nodes[0].value.size(0))\n",
    "\n",
    "        mu = self.nodes[0].value\n",
    "        for node, edge in zip(self.nodes[1:], self.edges):\n",
    "            mu = edge(mu)\n",
    "            vfe.add_(node.energy(mu))\n",
    "\n",
    "        return vfe\n",
    "\n",
    "\n",
    "pcn = PCN().to(dtype=dtype, device=device)"
   ]
  },
  {
   "cell_type": "markdown",
   "id": "dc48671e",
   "metadata": {},
   "source": [
    "## Configure the Training Procedure"
   ]
  },
  {
   "cell_type": "code",
   "execution_count": null,
   "id": "46ddb6bd",
   "metadata": {},
   "outputs": [],
   "source": [
    "epochs: int = 10\n",
    "batch_size: int = 500\n",
    "num_esteps: int = 32\n",
    "\n",
    "e_opt = optim.SGD(\n",
    "    pyro.get_estep_params(pcn, exclude=(pcn.nodes[0], pcn.nodes[-1])), lr=0.2\n",
    ")\n",
    "m_opt = optim.Adam(pyro.get_mstep_params(pcn), lr=0.001)"
   ]
  },
  {
   "cell_type": "markdown",
   "id": "4a833de4",
   "metadata": {},
   "source": [
    "## Training/Testing Loop"
   ]
  },
  {
   "cell_type": "code",
   "execution_count": null,
   "id": "a78ee54f",
   "metadata": {},
   "outputs": [],
   "source": [
    "nbatches = len(train_set) // batch_size\n",
    "accs = []\n",
    "\n",
    "for _ in tqdm(range(epochs), desc=\"Epoch\", initial=0, total=epochs, position=0):\n",
    "    # set training mode and reset\n",
    "    pcn.train()\n",
    "\n",
    "    # load and sample training set\n",
    "    sampler = RandomSampler(\n",
    "        train_set,\n",
    "        replacement=False,\n",
    "    )\n",
    "    loader = DataLoader(\n",
    "        train_set,\n",
    "        batch_size,\n",
    "        sampler=sampler,\n",
    "        drop_last=True,\n",
    "        pin_memory=iscuda,\n",
    "        pin_memory_device=\"\" if not iscuda else device,\n",
    "    )\n",
    "\n",
    "    # training loop\n",
    "    for x, y in tqdm(\n",
    "        loader, desc=\"Batch\", initial=0, total=nbatches, leave=False, position=1\n",
    "    ):\n",
    "        # prepare data\n",
    "        x = x.to(device=device).flatten(1)\n",
    "        y = y.to(device=device)\n",
    "\n",
    "        # initialize pcn with data\n",
    "        pcn.init_xy(x, F.one_hot(y, 10).to(dtype=dtype))\n",
    "\n",
    "        # perform E-steps\n",
    "        for _ in range(num_esteps):\n",
    "            pcn.zero_grad()\n",
    "            pcn.energy().mean().backward(inputs=e_opt.param_groups[0][\"params\"])\n",
    "            e_opt.step()\n",
    "\n",
    "        # perform M-step\n",
    "        pcn.zero_grad()\n",
    "        pcn.energy().mean().backward(inputs=m_opt.param_groups[0][\"params\"])\n",
    "        m_opt.step()\n",
    "\n",
    "    # set inference mode and reset\n",
    "    pcn.eval()\n",
    "\n",
    "    # load testing set\n",
    "    loader = DataLoader(\n",
    "        test_set,\n",
    "        len(test_set),\n",
    "        shuffle=False,\n",
    "        pin_memory=iscuda,\n",
    "        pin_memory_device=\"\" if not iscuda else device,\n",
    "    )\n",
    "    x, y = next(iter(loader))\n",
    "\n",
    "    # prepare data\n",
    "    x = x.to(device=device).flatten(1)\n",
    "    y = y.to(device=device)\n",
    "\n",
    "    # forward inference\n",
    "    ypred = pcn(x)\n",
    "    accs.append((y == ypred.argmax(1)).float().mean().item())\n",
    "\n",
    "# print results\n",
    "print(\"Epoch    Accuracy\")\n",
    "for e, acc in enumerate(accs, 1):\n",
    "    print(f\"{e:>5}    {f'{acc:.5f}':<8}\")"
   ]
  }
 ],
 "metadata": {
  "kernelspec": {
   "display_name": "pc",
   "language": "python",
   "name": "python3"
  },
  "language_info": {
   "codemirror_mode": {
    "name": "ipython",
    "version": 3
   },
   "file_extension": ".py",
   "mimetype": "text/x-python",
   "name": "python",
   "nbconvert_exporter": "python",
   "pygments_lexer": "ipython3",
   "version": "3.13.3"
  }
 },
 "nbformat": 4,
 "nbformat_minor": 5
}
